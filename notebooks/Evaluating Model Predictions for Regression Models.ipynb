{
 "cells": [
  {
   "cell_type": "markdown",
   "metadata": {},
   "source": [
    "# Lab: Evaluating Model Predictions for Regression Models\n",
    "\n",
    "How do you know if a regression model is a good estimator of what you are trying to predict?  \n",
    "This lab will walk you through building several multivariate linear regression models using different prediction variables and then comparing the model predictions using evaluation tools such as R-squared and Mean Squared Error (MSE)."
   ]
  },
  {
   "cell_type": "markdown",
   "metadata": {},
   "source": [
    "## Section 1: Prepare Model Data\n",
    "The first step is to import the data you will be using to make your model predictions.  You will be using the [Wine Quality dataset](https://archive.ics.uci.edu/ml/datasets/Wine+Quality) from the [UCI Machine Learning Repository](https://archive.ics.uci.edu/ml/index.php).  This dataset was originally created for the [\"Modeling wine preferences by data mining from physicochemical properties.\n",
    "In Decision Support Systems\"](http://dx.doi.org/10.1016/j.dss.2009.05.016) paper by P. Cortez, A. Cerdeira, F. Almeida, T. Matos and J. Reis."
   ]
  },
  {
   "cell_type": "markdown",
   "metadata": {},
   "source": [
    "### Import Data\n",
    "Python has a package called [pandas](https://pandas.pydata.org/), which is great for reading and manipulating data.  You will be using this package to import the provided CSV into a *pandas* [dataframe](https://pandas.pydata.org/pandas-docs/stable/user_guide/dsintro.html#dataframe)."
   ]
  },
  {
   "cell_type": "code",
   "execution_count": 1,
   "metadata": {},
   "outputs": [
    {
     "data": {
      "text/html": [
       "<div>\n",
       "<style scoped>\n",
       "    .dataframe tbody tr th:only-of-type {\n",
       "        vertical-align: middle;\n",
       "    }\n",
       "\n",
       "    .dataframe tbody tr th {\n",
       "        vertical-align: top;\n",
       "    }\n",
       "\n",
       "    .dataframe thead th {\n",
       "        text-align: right;\n",
       "    }\n",
       "</style>\n",
       "<table border=\"1\" class=\"dataframe\">\n",
       "  <thead>\n",
       "    <tr style=\"text-align: right;\">\n",
       "      <th></th>\n",
       "      <th>type</th>\n",
       "      <th>fixed acidity</th>\n",
       "      <th>volatile acidity</th>\n",
       "      <th>citric acid</th>\n",
       "      <th>residual sugar</th>\n",
       "      <th>chlorides</th>\n",
       "      <th>free sulfur dioxide</th>\n",
       "      <th>total sulfur dioxide</th>\n",
       "      <th>density</th>\n",
       "      <th>pH</th>\n",
       "      <th>sulphates</th>\n",
       "      <th>alcohol</th>\n",
       "      <th>quality</th>\n",
       "    </tr>\n",
       "  </thead>\n",
       "  <tbody>\n",
       "    <tr>\n",
       "      <th>0</th>\n",
       "      <td>white</td>\n",
       "      <td>7.0</td>\n",
       "      <td>0.27</td>\n",
       "      <td>0.36</td>\n",
       "      <td>20.7</td>\n",
       "      <td>0.045</td>\n",
       "      <td>45.0</td>\n",
       "      <td>170.0</td>\n",
       "      <td>1.0010</td>\n",
       "      <td>3.00</td>\n",
       "      <td>0.45</td>\n",
       "      <td>8.8</td>\n",
       "      <td>6</td>\n",
       "    </tr>\n",
       "    <tr>\n",
       "      <th>1</th>\n",
       "      <td>white</td>\n",
       "      <td>6.3</td>\n",
       "      <td>0.30</td>\n",
       "      <td>0.34</td>\n",
       "      <td>1.6</td>\n",
       "      <td>0.049</td>\n",
       "      <td>14.0</td>\n",
       "      <td>132.0</td>\n",
       "      <td>0.9940</td>\n",
       "      <td>3.30</td>\n",
       "      <td>0.49</td>\n",
       "      <td>9.5</td>\n",
       "      <td>6</td>\n",
       "    </tr>\n",
       "    <tr>\n",
       "      <th>2</th>\n",
       "      <td>white</td>\n",
       "      <td>8.1</td>\n",
       "      <td>0.28</td>\n",
       "      <td>0.40</td>\n",
       "      <td>6.9</td>\n",
       "      <td>0.050</td>\n",
       "      <td>30.0</td>\n",
       "      <td>97.0</td>\n",
       "      <td>0.9951</td>\n",
       "      <td>3.26</td>\n",
       "      <td>0.44</td>\n",
       "      <td>10.1</td>\n",
       "      <td>6</td>\n",
       "    </tr>\n",
       "    <tr>\n",
       "      <th>3</th>\n",
       "      <td>white</td>\n",
       "      <td>7.2</td>\n",
       "      <td>0.23</td>\n",
       "      <td>0.32</td>\n",
       "      <td>8.5</td>\n",
       "      <td>0.058</td>\n",
       "      <td>47.0</td>\n",
       "      <td>186.0</td>\n",
       "      <td>0.9956</td>\n",
       "      <td>3.19</td>\n",
       "      <td>0.40</td>\n",
       "      <td>9.9</td>\n",
       "      <td>6</td>\n",
       "    </tr>\n",
       "    <tr>\n",
       "      <th>4</th>\n",
       "      <td>white</td>\n",
       "      <td>7.2</td>\n",
       "      <td>0.23</td>\n",
       "      <td>0.32</td>\n",
       "      <td>8.5</td>\n",
       "      <td>0.058</td>\n",
       "      <td>47.0</td>\n",
       "      <td>186.0</td>\n",
       "      <td>0.9956</td>\n",
       "      <td>3.19</td>\n",
       "      <td>0.40</td>\n",
       "      <td>9.9</td>\n",
       "      <td>6</td>\n",
       "    </tr>\n",
       "    <tr>\n",
       "      <th>5</th>\n",
       "      <td>white</td>\n",
       "      <td>8.1</td>\n",
       "      <td>0.28</td>\n",
       "      <td>0.40</td>\n",
       "      <td>6.9</td>\n",
       "      <td>0.050</td>\n",
       "      <td>30.0</td>\n",
       "      <td>97.0</td>\n",
       "      <td>0.9951</td>\n",
       "      <td>3.26</td>\n",
       "      <td>0.44</td>\n",
       "      <td>10.1</td>\n",
       "      <td>6</td>\n",
       "    </tr>\n",
       "    <tr>\n",
       "      <th>6</th>\n",
       "      <td>white</td>\n",
       "      <td>6.2</td>\n",
       "      <td>0.32</td>\n",
       "      <td>0.16</td>\n",
       "      <td>7.0</td>\n",
       "      <td>0.045</td>\n",
       "      <td>30.0</td>\n",
       "      <td>136.0</td>\n",
       "      <td>0.9949</td>\n",
       "      <td>3.18</td>\n",
       "      <td>0.47</td>\n",
       "      <td>9.6</td>\n",
       "      <td>6</td>\n",
       "    </tr>\n",
       "    <tr>\n",
       "      <th>7</th>\n",
       "      <td>white</td>\n",
       "      <td>7.0</td>\n",
       "      <td>0.27</td>\n",
       "      <td>0.36</td>\n",
       "      <td>20.7</td>\n",
       "      <td>0.045</td>\n",
       "      <td>45.0</td>\n",
       "      <td>170.0</td>\n",
       "      <td>1.0010</td>\n",
       "      <td>3.00</td>\n",
       "      <td>0.45</td>\n",
       "      <td>8.8</td>\n",
       "      <td>6</td>\n",
       "    </tr>\n",
       "    <tr>\n",
       "      <th>8</th>\n",
       "      <td>white</td>\n",
       "      <td>6.3</td>\n",
       "      <td>0.30</td>\n",
       "      <td>0.34</td>\n",
       "      <td>1.6</td>\n",
       "      <td>0.049</td>\n",
       "      <td>14.0</td>\n",
       "      <td>132.0</td>\n",
       "      <td>0.9940</td>\n",
       "      <td>3.30</td>\n",
       "      <td>0.49</td>\n",
       "      <td>9.5</td>\n",
       "      <td>6</td>\n",
       "    </tr>\n",
       "    <tr>\n",
       "      <th>9</th>\n",
       "      <td>white</td>\n",
       "      <td>8.1</td>\n",
       "      <td>0.22</td>\n",
       "      <td>0.43</td>\n",
       "      <td>1.5</td>\n",
       "      <td>0.044</td>\n",
       "      <td>28.0</td>\n",
       "      <td>129.0</td>\n",
       "      <td>0.9938</td>\n",
       "      <td>3.22</td>\n",
       "      <td>0.45</td>\n",
       "      <td>11.0</td>\n",
       "      <td>6</td>\n",
       "    </tr>\n",
       "  </tbody>\n",
       "</table>\n",
       "</div>"
      ],
      "text/plain": [
       "    type  fixed acidity  volatile acidity  citric acid  residual sugar  \\\n",
       "0  white            7.0              0.27         0.36            20.7   \n",
       "1  white            6.3              0.30         0.34             1.6   \n",
       "2  white            8.1              0.28         0.40             6.9   \n",
       "3  white            7.2              0.23         0.32             8.5   \n",
       "4  white            7.2              0.23         0.32             8.5   \n",
       "5  white            8.1              0.28         0.40             6.9   \n",
       "6  white            6.2              0.32         0.16             7.0   \n",
       "7  white            7.0              0.27         0.36            20.7   \n",
       "8  white            6.3              0.30         0.34             1.6   \n",
       "9  white            8.1              0.22         0.43             1.5   \n",
       "\n",
       "   chlorides  free sulfur dioxide  total sulfur dioxide  density    pH  \\\n",
       "0      0.045                 45.0                 170.0   1.0010  3.00   \n",
       "1      0.049                 14.0                 132.0   0.9940  3.30   \n",
       "2      0.050                 30.0                  97.0   0.9951  3.26   \n",
       "3      0.058                 47.0                 186.0   0.9956  3.19   \n",
       "4      0.058                 47.0                 186.0   0.9956  3.19   \n",
       "5      0.050                 30.0                  97.0   0.9951  3.26   \n",
       "6      0.045                 30.0                 136.0   0.9949  3.18   \n",
       "7      0.045                 45.0                 170.0   1.0010  3.00   \n",
       "8      0.049                 14.0                 132.0   0.9940  3.30   \n",
       "9      0.044                 28.0                 129.0   0.9938  3.22   \n",
       "\n",
       "   sulphates  alcohol  quality  \n",
       "0       0.45      8.8        6  \n",
       "1       0.49      9.5        6  \n",
       "2       0.44     10.1        6  \n",
       "3       0.40      9.9        6  \n",
       "4       0.40      9.9        6  \n",
       "5       0.44     10.1        6  \n",
       "6       0.47      9.6        6  \n",
       "7       0.45      8.8        6  \n",
       "8       0.49      9.5        6  \n",
       "9       0.45     11.0        6  "
      ]
     },
     "execution_count": 1,
     "metadata": {},
     "output_type": "execute_result"
    }
   ],
   "source": [
    "#Import pandas\n",
    "import pandas as pd\n",
    "\n",
    "#Load data\n",
    "wine = pd.read_csv('../data/winequality.csv')\n",
    "\n",
    "#Show first 10 rows of data frame\n",
    "wine.head(10)"
   ]
  },
  {
   "cell_type": "markdown",
   "metadata": {},
   "source": [
    "Your model will be attempting to predict the **quality** value, given one or more of the other columns.  The variables you use to predict a modeled output are called *features* or *predictor variables*.  \n",
    "\n",
    "Using the *groupby()* function in *pandas*, you can count the total number of records in the dataframe by white and red wine."
   ]
  },
  {
   "cell_type": "code",
   "execution_count": 2,
   "metadata": {},
   "outputs": [
    {
     "data": {
      "text/html": [
       "<div>\n",
       "<style scoped>\n",
       "    .dataframe tbody tr th:only-of-type {\n",
       "        vertical-align: middle;\n",
       "    }\n",
       "\n",
       "    .dataframe tbody tr th {\n",
       "        vertical-align: top;\n",
       "    }\n",
       "\n",
       "    .dataframe thead th {\n",
       "        text-align: right;\n",
       "    }\n",
       "</style>\n",
       "<table border=\"1\" class=\"dataframe\">\n",
       "  <thead>\n",
       "    <tr style=\"text-align: right;\">\n",
       "      <th></th>\n",
       "      <th>0</th>\n",
       "    </tr>\n",
       "    <tr>\n",
       "      <th>type</th>\n",
       "      <th></th>\n",
       "    </tr>\n",
       "  </thead>\n",
       "  <tbody>\n",
       "    <tr>\n",
       "      <th>red</th>\n",
       "      <td>1599</td>\n",
       "    </tr>\n",
       "    <tr>\n",
       "      <th>white</th>\n",
       "      <td>4898</td>\n",
       "    </tr>\n",
       "  </tbody>\n",
       "</table>\n",
       "</div>"
      ],
      "text/plain": [
       "          0\n",
       "type       \n",
       "red    1599\n",
       "white  4898"
      ]
     },
     "execution_count": 2,
     "metadata": {},
     "output_type": "execute_result"
    }
   ],
   "source": [
    "#Display count by wine type\n",
    "pd.DataFrame(wine.groupby('type').size())"
   ]
  },
  {
   "cell_type": "markdown",
   "metadata": {},
   "source": [
    "### Create Dummy Variable\n",
    "Models are good with numbers but bad with categorical data.  The **type** field in the dataframe is a categorical variable, taking one of two category values (red or white).  \n",
    "\n",
    "You can use the *get_dummies* function in *pandas* to convert this categorical variable into a dummy variable of 1 (true) for white wine and 0 (false) for red wine and add it as a column called **white** to the dataframe."
   ]
  },
  {
   "cell_type": "code",
   "execution_count": 3,
   "metadata": {},
   "outputs": [
    {
     "data": {
      "text/html": [
       "<div>\n",
       "<style scoped>\n",
       "    .dataframe tbody tr th:only-of-type {\n",
       "        vertical-align: middle;\n",
       "    }\n",
       "\n",
       "    .dataframe tbody tr th {\n",
       "        vertical-align: top;\n",
       "    }\n",
       "\n",
       "    .dataframe thead th {\n",
       "        text-align: right;\n",
       "    }\n",
       "</style>\n",
       "<table border=\"1\" class=\"dataframe\">\n",
       "  <thead>\n",
       "    <tr style=\"text-align: right;\">\n",
       "      <th></th>\n",
       "      <th>type</th>\n",
       "      <th>fixed acidity</th>\n",
       "      <th>volatile acidity</th>\n",
       "      <th>citric acid</th>\n",
       "      <th>residual sugar</th>\n",
       "      <th>chlorides</th>\n",
       "      <th>free sulfur dioxide</th>\n",
       "      <th>total sulfur dioxide</th>\n",
       "      <th>density</th>\n",
       "      <th>pH</th>\n",
       "      <th>sulphates</th>\n",
       "      <th>alcohol</th>\n",
       "      <th>quality</th>\n",
       "      <th>white</th>\n",
       "    </tr>\n",
       "  </thead>\n",
       "  <tbody>\n",
       "    <tr>\n",
       "      <th>0</th>\n",
       "      <td>white</td>\n",
       "      <td>7.0</td>\n",
       "      <td>0.27</td>\n",
       "      <td>0.36</td>\n",
       "      <td>20.7</td>\n",
       "      <td>0.045</td>\n",
       "      <td>45.0</td>\n",
       "      <td>170.0</td>\n",
       "      <td>1.0010</td>\n",
       "      <td>3.00</td>\n",
       "      <td>0.45</td>\n",
       "      <td>8.8</td>\n",
       "      <td>6</td>\n",
       "      <td>1</td>\n",
       "    </tr>\n",
       "    <tr>\n",
       "      <th>1</th>\n",
       "      <td>white</td>\n",
       "      <td>6.3</td>\n",
       "      <td>0.30</td>\n",
       "      <td>0.34</td>\n",
       "      <td>1.6</td>\n",
       "      <td>0.049</td>\n",
       "      <td>14.0</td>\n",
       "      <td>132.0</td>\n",
       "      <td>0.9940</td>\n",
       "      <td>3.30</td>\n",
       "      <td>0.49</td>\n",
       "      <td>9.5</td>\n",
       "      <td>6</td>\n",
       "      <td>1</td>\n",
       "    </tr>\n",
       "    <tr>\n",
       "      <th>2</th>\n",
       "      <td>white</td>\n",
       "      <td>8.1</td>\n",
       "      <td>0.28</td>\n",
       "      <td>0.40</td>\n",
       "      <td>6.9</td>\n",
       "      <td>0.050</td>\n",
       "      <td>30.0</td>\n",
       "      <td>97.0</td>\n",
       "      <td>0.9951</td>\n",
       "      <td>3.26</td>\n",
       "      <td>0.44</td>\n",
       "      <td>10.1</td>\n",
       "      <td>6</td>\n",
       "      <td>1</td>\n",
       "    </tr>\n",
       "    <tr>\n",
       "      <th>3</th>\n",
       "      <td>white</td>\n",
       "      <td>7.2</td>\n",
       "      <td>0.23</td>\n",
       "      <td>0.32</td>\n",
       "      <td>8.5</td>\n",
       "      <td>0.058</td>\n",
       "      <td>47.0</td>\n",
       "      <td>186.0</td>\n",
       "      <td>0.9956</td>\n",
       "      <td>3.19</td>\n",
       "      <td>0.40</td>\n",
       "      <td>9.9</td>\n",
       "      <td>6</td>\n",
       "      <td>1</td>\n",
       "    </tr>\n",
       "    <tr>\n",
       "      <th>4</th>\n",
       "      <td>white</td>\n",
       "      <td>7.2</td>\n",
       "      <td>0.23</td>\n",
       "      <td>0.32</td>\n",
       "      <td>8.5</td>\n",
       "      <td>0.058</td>\n",
       "      <td>47.0</td>\n",
       "      <td>186.0</td>\n",
       "      <td>0.9956</td>\n",
       "      <td>3.19</td>\n",
       "      <td>0.40</td>\n",
       "      <td>9.9</td>\n",
       "      <td>6</td>\n",
       "      <td>1</td>\n",
       "    </tr>\n",
       "  </tbody>\n",
       "</table>\n",
       "</div>"
      ],
      "text/plain": [
       "    type  fixed acidity  volatile acidity  citric acid  residual sugar  \\\n",
       "0  white            7.0              0.27         0.36            20.7   \n",
       "1  white            6.3              0.30         0.34             1.6   \n",
       "2  white            8.1              0.28         0.40             6.9   \n",
       "3  white            7.2              0.23         0.32             8.5   \n",
       "4  white            7.2              0.23         0.32             8.5   \n",
       "\n",
       "   chlorides  free sulfur dioxide  total sulfur dioxide  density    pH  \\\n",
       "0      0.045                 45.0                 170.0   1.0010  3.00   \n",
       "1      0.049                 14.0                 132.0   0.9940  3.30   \n",
       "2      0.050                 30.0                  97.0   0.9951  3.26   \n",
       "3      0.058                 47.0                 186.0   0.9956  3.19   \n",
       "4      0.058                 47.0                 186.0   0.9956  3.19   \n",
       "\n",
       "   sulphates  alcohol  quality  white  \n",
       "0       0.45      8.8        6      1  \n",
       "1       0.49      9.5        6      1  \n",
       "2       0.44     10.1        6      1  \n",
       "3       0.40      9.9        6      1  \n",
       "4       0.40      9.9        6      1  "
      ]
     },
     "execution_count": 3,
     "metadata": {},
     "output_type": "execute_result"
    }
   ],
   "source": [
    "#Create dummy variable column using pandas get_dummies\n",
    "wine['white'] = pd.get_dummies(wine['type'], drop_first=True)\n",
    "\n",
    "wine.head()"
   ]
  },
  {
   "cell_type": "markdown",
   "metadata": {},
   "source": [
    "### Create training and test data sets\n",
    "When evaluating how well your model does predicting wine quality, you want to use the model to predict quality for records it has never seen before.  This is accomplished by splitting your dataset into a training dataset, which will be used to train the model, and a test dataset, which will be held in reserve until it is time to test how well the model does in the \"real world.\"  \n",
    "\n",
    "This split will be done using the [train_test_split](https://scikit-learn.org/stable/modules/generated/sklearn.model_selection.train_test_split.html) function from the [scikit-learn](https://scikit-learn.org/stable/index.html) package.\n",
    "\n",
    "Note: You will want to set the *shuffle* parameter to **True** to ensure that both the training and test sets get a mix of red and white wines."
   ]
  },
  {
   "cell_type": "code",
   "execution_count": 4,
   "metadata": {},
   "outputs": [],
   "source": [
    "#Import train_test_split from the scikit-learn\n",
    "from sklearn.model_selection import train_test_split\n",
    "\n",
    "#First, split the dataset into features (predictors) and the output (target)\n",
    "#Features are all columns except quality (the output) and the 'type' column (which was converted to a dummy variable)\n",
    "features = wine[wine.columns.difference(['type','quality'])]\n",
    "target = wine['quality']\n",
    "\n",
    "#Split into training and test datasets using an 80%/20% split\n",
    "features_train, \\\n",
    "features_test, \\\n",
    "target_train, \\\n",
    "target_test = train_test_split(features, target, test_size = 0.2, shuffle=True, random_state = 123)"
   ]
  },
  {
   "cell_type": "markdown",
   "metadata": {},
   "source": [
    "Using the *size* function in *pandas*, you can see how many records went into each dataset."
   ]
  },
  {
   "cell_type": "code",
   "execution_count": 5,
   "metadata": {},
   "outputs": [
    {
     "name": "stdout",
     "output_type": "stream",
     "text": [
      "There are 5197 records in the training features dataframe.\n",
      "There are 5197 records in the training target dataframe.\n"
     ]
    }
   ],
   "source": [
    "#Count training dataframes\n",
    "print(\"There are {} records in the training features dataframe.\".format(features_train.shape[0]))\n",
    "print(\"There are {} records in the training target dataframe.\".format(target_train.shape[0]))"
   ]
  },
  {
   "cell_type": "markdown",
   "metadata": {},
   "source": [
    "Now it is your turn.  Count the number of records in the test features and target dataframes."
   ]
  },
  {
   "cell_type": "code",
   "execution_count": 7,
   "metadata": {},
   "outputs": [
    {
     "name": "stdout",
     "output_type": "stream",
     "text": [
      "There are 1300 records in the testing features dataframe.\n",
      "There are 1300 records in the testing target dataframe.\n"
     ]
    }
   ],
   "source": [
    "#Count test dataframes\n",
    "print(\"There are {} records in the testing features dataframe.\".format(features_test.shape[0]))\n",
    "print(\"There are {} records in the testing target dataframe.\".format(target_test.shape[0]))"
   ]
  },
  {
   "cell_type": "markdown",
   "metadata": {},
   "source": [
    "## Section 2: Build the Model\n",
    "Now that your data has been split into training and test datasets, you can build your model.  The model you will be creating is a [multivariate linear regression](https://en.wikipedia.org/wiki/Linear_regression) model.  This means that you will be creating a function that uses a linear combination of one or more of the input or predictor variables to estimate the target variable.\n",
    "\n",
    "But how do you know which features are useful in predicting the target variable of wine quality?  \n",
    "\n",
    "The answer is [feature selection](https://en.wikipedia.org/wiki/Feature_selection).  There are many different methods of feature selection, but for this lab, you will employ forward and backward stepwise selection.\n",
    "* Forward stepwise selection starts with no features and adds the single feature at each step that improves the fit the most\n",
    "* Backward stepwise selection starts with all features and removes the single feature at each step which decreases the fit the least\n",
    "\n",
    "So how do you measure model fit?  Again, there are many evaluation metrics, but for this lab, you will be exploring [$R^2$](https://en.wikipedia.org/wiki/Coefficient_of_determination) and [Mean Squared Error](https://en.wikipedia.org/wiki/Mean_squared_error)."
   ]
  },
  {
   "cell_type": "code",
   "execution_count": 8,
   "metadata": {},
   "outputs": [
    {
     "name": "stdout",
     "output_type": "stream",
     "text": [
      "Name: scikit-learn\r\n",
      "Version: 0.24.1\r\n",
      "Summary: A set of python modules for machine learning and data mining\r\n",
      "Home-page: http://scikit-learn.org\r\n",
      "Author: None\r\n",
      "Author-email: None\r\n",
      "License: new BSD\r\n",
      "Location: /home/ec2-user/anaconda3/envs/python3/lib/python3.6/site-packages\r\n",
      "Requires: threadpoolctl, numpy, scipy, joblib\r\n",
      "Required-by: sklearn\r\n"
     ]
    }
   ],
   "source": [
    "#Check scikit-learn version and update if lower than 0.24\n",
    "! pip show scikit-learn"
   ]
  },
  {
   "cell_type": "code",
   "execution_count": 9,
   "metadata": {},
   "outputs": [
    {
     "name": "stdout",
     "output_type": "stream",
     "text": [
      "Requirement already satisfied: scikit-learn in /home/ec2-user/anaconda3/envs/python3/lib/python3.6/site-packages (0.24.1)\n",
      "Requirement already satisfied: threadpoolctl>=2.0.0 in /home/ec2-user/anaconda3/envs/python3/lib/python3.6/site-packages (from scikit-learn) (2.1.0)\n",
      "Requirement already satisfied: numpy>=1.13.3 in /home/ec2-user/anaconda3/envs/python3/lib/python3.6/site-packages (from scikit-learn) (1.19.5)\n",
      "Requirement already satisfied: scipy>=0.19.1 in /home/ec2-user/anaconda3/envs/python3/lib/python3.6/site-packages (from scikit-learn) (1.5.3)\n",
      "Requirement already satisfied: joblib>=0.11 in /home/ec2-user/anaconda3/envs/python3/lib/python3.6/site-packages (from scikit-learn) (1.0.1)\n"
     ]
    }
   ],
   "source": [
    "#If version is less than 0.24, run this code\n",
    "! pip install --upgrade scikit-learn"
   ]
  },
  {
   "cell_type": "code",
   "execution_count": 10,
   "metadata": {},
   "outputs": [
    {
     "data": {
      "text/plain": [
       "Index(['alcohol', 'residual sugar', 'sulphates', 'volatile acidity', 'white'], dtype='object')"
      ]
     },
     "execution_count": 10,
     "metadata": {},
     "output_type": "execute_result"
    }
   ],
   "source": [
    "#Import SequentialFeatureSelector and LinearRegression from sklearn\n",
    "#Note: SequentialFeatureSelector is a new feature in version 0.24\n",
    "from sklearn.feature_selection import SequentialFeatureSelector\n",
    "from sklearn.linear_model import LinearRegression\n",
    "\n",
    "#Initialize your linear regression model\n",
    "model = LinearRegression()\n",
    "\n",
    "#Set up forward stepwise selection model using R-squared\n",
    "forward_selection = SequentialFeatureSelector(model, n_features_to_select=5, direction='forward', scoring='r2')\n",
    "\n",
    "#Fit the forward selection model\n",
    "forward_selection.fit(features_train, target_train)\n",
    "\n",
    "#Display the five best features using forward selection\n",
    "forward_best = features_train.columns[forward_selection.get_support()]\n",
    "forward_best"
   ]
  },
  {
   "cell_type": "code",
   "execution_count": 11,
   "metadata": {},
   "outputs": [],
   "source": [
    "#Train linear regression model with features from forward stepwise selection\n",
    "best_forward_selection = model.fit(features_train[forward_best], target_train)\n",
    "\n",
    "#Use the new model to predict wine quality on the training and test datasets\n",
    "training_predict = best_forward_selection.predict(features_train[forward_best])\n",
    "test_predict = best_forward_selection.predict(features_test[forward_best])"
   ]
  },
  {
   "cell_type": "markdown",
   "metadata": {},
   "source": [
    "## Section 3: Evaluate the Model\n",
    "$R^2$ is a measure of how much of the variance in the target variable is explained by the predictor variables.  It ranges from 0 to 1, with 0 being no variance explained by the model and 1 being the model giving a perfect explaination of the variance.  \n",
    "\n",
    "The closer $R^2$ is to 1, the better the model fit.  \n",
    "\n",
    "$R^2$ is calculated in *scikit-learn* using the [r2_score](https://scikit-learn.org/stable/modules/generated/sklearn.metrics.r2_score.html) function."
   ]
  },
  {
   "cell_type": "code",
   "execution_count": 12,
   "metadata": {},
   "outputs": [
    {
     "name": "stdout",
     "output_type": "stream",
     "text": [
      "The R-squared value for the training dataset is 0.28689\n",
      "The R-squared value for the test dataset is 0.26194\n"
     ]
    }
   ],
   "source": [
    "#Import R-squared metric\n",
    "from sklearn.metrics import r2_score\n",
    "\n",
    "#Calculate R-squared for the training and test datasets\n",
    "training_r2 = r2_score(target_train, training_predict)\n",
    "test_r2 = r2_score(target_test, test_predict)\n",
    "\n",
    "print('The R-squared value for the training dataset is {:.5}'.format(training_r2))\n",
    "print('The R-squared value for the test dataset is {:.5}'.format(test_r2))"
   ]
  },
  {
   "cell_type": "markdown",
   "metadata": {},
   "source": [
    "The $R^2$ value is higher for the training dataset than for the test set.  This is expected as generally the model does a better job predicting the wine quality on data it has already seen than on new, unseen data from the test dataset."
   ]
  },
  {
   "cell_type": "markdown",
   "metadata": {},
   "source": [
    "The mean squared error is computed as follows:\n",
    "<center>\n",
    "    $\\text{MSE}=\\frac{1}{n}\\sum_{i=1}^{n}{(y_{i}-\\hat{y_{i}})^2}$\n",
    "</center>  \n",
    "\n",
    "where \n",
    "* $n$ is the number of records\n",
    "* $y_{i}$ is the actual target value (true wine quality)\n",
    "* $\\hat{y_{i}}$ is predicted target value (predicted wine quality)\n",
    "\n",
    "The lower the MSE value, the better the model fit.\n",
    "\n",
    "MSE is calculated in *scikit-learn* using the [mean_squared_error](https://scikit-learn.org/stable/modules/generated/sklearn.metrics.mean_squared_error.html) function.\n",
    "\n",
    "You can now calculate the MSE for the training and test set below."
   ]
  },
  {
   "cell_type": "code",
   "execution_count": 14,
   "metadata": {},
   "outputs": [
    {
     "name": "stdout",
     "output_type": "stream",
     "text": [
      "The mean squared error for the training dataset is 0.5457\n",
      "The mean squared error for the test dataset is 0.55357\n"
     ]
    }
   ],
   "source": [
    "#Import MSE metric\n",
    "from sklearn.metrics import mean_squared_error\n",
    "\n",
    "#Calculate mean squared error for the training and test datasets\n",
    "training_mse = mean_squared_error(target_train, training_predict)\n",
    "test_mse = mean_squared_error(target_test, test_predict)\n",
    "\n",
    "print('The mean squared error for the training dataset is {:.5}'.format(training_mse))\n",
    "print('The mean squared error for the test dataset is {:.5}'.format(test_mse))"
   ]
  },
  {
   "cell_type": "markdown",
   "metadata": {},
   "source": [
    "## Section 4: Compare Models\n",
    "Now you can create additional models and compare them against each other.  For example, you can use backward selection to create a model with 5 parameters, using MSE as the scoring metric."
   ]
  },
  {
   "cell_type": "code",
   "execution_count": 15,
   "metadata": {},
   "outputs": [
    {
     "data": {
      "text/plain": [
       "Index(['alcohol', 'residual sugar', 'sulphates', 'total sulfur dioxide',\n",
       "       'volatile acidity'],\n",
       "      dtype='object')"
      ]
     },
     "execution_count": 15,
     "metadata": {},
     "output_type": "execute_result"
    }
   ],
   "source": [
    "#Set up backward stepwise selection model using MSE with 5 features\n",
    "model = LinearRegression()\n",
    "backward_selection = SequentialFeatureSelector(model, \n",
    "                                               n_features_to_select=5, \n",
    "                                               direction='backward', \n",
    "                                               scoring='neg_mean_squared_error')\n",
    "\n",
    "#Fit the backward selection model\n",
    "backward_selection.fit(features_train, target_train)\n",
    "\n",
    "#Display the eight best features using backward selection\n",
    "backward_best = features_train.columns[backward_selection.get_support()]\n",
    "backward_best"
   ]
  },
  {
   "cell_type": "markdown",
   "metadata": {},
   "source": [
    "Now fit a new model using the five best features from backward selection, and use it to predict the wine quality for the training and test datasets."
   ]
  },
  {
   "cell_type": "code",
   "execution_count": 16,
   "metadata": {},
   "outputs": [],
   "source": [
    "#Train linear regression model with features from backward stepwise selection\n",
    "best_backward_selection = model.fit(features_train[backward_best], target_train)"
   ]
  },
  {
   "cell_type": "markdown",
   "metadata": {},
   "source": [
    "Compare the $R^2$ values for the forward and backward models.  Which model does a better job predicting wine quality on the test dataset?"
   ]
  },
  {
   "cell_type": "code",
   "execution_count": 19,
   "metadata": {},
   "outputs": [
    {
     "name": "stdout",
     "output_type": "stream",
     "text": [
      "R-squared values for the test dataset.\n",
      "Forward selection model: 0.26194\n",
      "Backward selection model: 0.26001\n"
     ]
    }
   ],
   "source": [
    "#Predict wine quality for both models on the test dataset\n",
    "test_forward = best_forward_selection.predict(features_test[forward_best])\n",
    "test_backward = best_backward_selection.predict(features_test[backward_best])\n",
    "\n",
    "#Calculate R-squared\n",
    "forward_r2 = r2_score(target_test, test_forward)\n",
    "backward_r2 = r2_score(target_test, test_backward)\n",
    "\n",
    "print('R-squared values for the test dataset.')\n",
    "print('Forward selection model: {:.5f}'.format(forward_r2))\n",
    "print('Backward selection model: {:.5f}'.format(backward_r2))"
   ]
  },
  {
   "cell_type": "markdown",
   "metadata": {},
   "source": [
    "Now compare the forward and backward models using mean squared error instead of $R^2$."
   ]
  },
  {
   "cell_type": "code",
   "execution_count": 20,
   "metadata": {},
   "outputs": [
    {
     "name": "stdout",
     "output_type": "stream",
     "text": [
      "MSE values for the test dataset.\n",
      "Forward selection model: 0.55357\n",
      "Backward selection model: 0.55502\n"
     ]
    }
   ],
   "source": [
    "#Calculate MSE\n",
    "forward_mse = mean_squared_error(target_test, test_forward)\n",
    "backward_mse = mean_squared_error(target_test, test_backward)\n",
    "\n",
    "print('MSE values for the test dataset.')\n",
    "print('Forward selection model: {:.5}'.format(forward_mse))\n",
    "print('Backward selection model: {:.5}'.format(backward_mse))"
   ]
  },
  {
   "cell_type": "markdown",
   "metadata": {},
   "source": [
    "## Further Practice\n",
    "If you want to practice building and comparing models to see if you can improve the model fit, you can try different combinations of the three parameters we have been adjusting for stepwise selection:\n",
    "* <b>direction</b>: 'forward' or 'backward'\n",
    "* <b>n_features_to_select</b>: Vary between 1 and 11 (since there are 12 total features)\n",
    "* <b>scoring</b>: 'r2' or 'neg_mean_squared_error'\n",
    "\n",
    "You could also use other [scoring metrics](https://scikit-learn.org/stable/modules/model_evaluation.html#scoring-parameter) for regression models, such as explained variance or mean absolute error."
   ]
  },
  {
   "cell_type": "code",
   "execution_count": null,
   "metadata": {},
   "outputs": [],
   "source": []
  }
 ],
 "metadata": {
  "kernelspec": {
   "display_name": "Python 3",
   "language": "python",
   "name": "python3"
  },
  "language_info": {
   "codemirror_mode": {
    "name": "ipython",
    "version": 3
   },
   "file_extension": ".py",
   "mimetype": "text/x-python",
   "name": "python",
   "nbconvert_exporter": "python",
   "pygments_lexer": "ipython3",
   "version": "3.8.5"
  }
 },
 "nbformat": 4,
 "nbformat_minor": 4
}
